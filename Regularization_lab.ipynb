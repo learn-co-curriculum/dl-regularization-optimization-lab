{
 "cells": [
  {
   "cell_type": "markdown",
   "metadata": {},
   "source": [
    "# Regularization"
   ]
  },
  {
   "cell_type": "markdown",
   "metadata": {},
   "source": [
    "## 1. Introduction"
   ]
  },
  {
   "cell_type": "markdown",
   "metadata": {},
   "source": [
    "Recall from the last lab that we had a training accuracy close to 90% and a test set accuracy close to 76%.\n",
    "\n",
    "2 questions:\n",
    "- Is there a high bias? yes/no\n",
    "- Is there a high variance? yes/no\n",
    "\n",
    "Recall that \"high bias\" is a relative concept. Knowing we have 7 classes and the topics are related, we'll assume that a 90% accuracy is pretty good and the bias on the training set is low. In this lab, we'll use the notion of training/validation/test set to get better insights of how we can mitigate our variance, and we'll look at a few regularization techniques."
   ]
  },
  {
   "cell_type": "markdown",
   "metadata": {},
   "source": [
    "Everything in section 2 of this lab is basically what you have done in the previous lab with respect to preprocessing the data. We'll do that again here, and then we'll rerun our model but this time:\n",
    "- We'll include a validation set as well, and start with using early stopping to minimize the discrepancy between train and test accuracy.\n",
    "- We'll use L1 and L2 regularization.\n",
    "- We'll use dropout regularization.\n",
    "- We'll look at the effect of using more data."
   ]
  },
  {
   "cell_type": "markdown",
   "metadata": {},
   "source": [
    "## 2. Pre-processing the bank complaints as in the previous lab"
   ]
  },
  {
   "cell_type": "markdown",
   "metadata": {},
   "source": [
    "### 2.1 Import the libraries and take a sample"
   ]
  },
  {
   "cell_type": "code",
   "execution_count": 85,
   "metadata": {},
   "outputs": [
    {
     "data": {
      "text/html": [
       "<div>\n",
       "<style scoped>\n",
       "    .dataframe tbody tr th:only-of-type {\n",
       "        vertical-align: middle;\n",
       "    }\n",
       "\n",
       "    .dataframe tbody tr th {\n",
       "        vertical-align: top;\n",
       "    }\n",
       "\n",
       "    .dataframe thead th {\n",
       "        text-align: right;\n",
       "    }\n",
       "</style>\n",
       "<table border=\"1\" class=\"dataframe\">\n",
       "  <thead>\n",
       "    <tr style=\"text-align: right;\">\n",
       "      <th></th>\n",
       "      <th>Product</th>\n",
       "      <th>Consumer complaint narrative</th>\n",
       "    </tr>\n",
       "  </thead>\n",
       "  <tbody>\n",
       "    <tr>\n",
       "      <th>0</th>\n",
       "      <td>Student loan</td>\n",
       "      <td>In XX/XX/XXXX I filled out the Fedlaon applica...</td>\n",
       "    </tr>\n",
       "    <tr>\n",
       "      <th>1</th>\n",
       "      <td>Student loan</td>\n",
       "      <td>I am being contacted by a debt collector for p...</td>\n",
       "    </tr>\n",
       "    <tr>\n",
       "      <th>2</th>\n",
       "      <td>Student loan</td>\n",
       "      <td>I cosigned XXXX student loans at SallieMae for...</td>\n",
       "    </tr>\n",
       "    <tr>\n",
       "      <th>3</th>\n",
       "      <td>Student loan</td>\n",
       "      <td>Navient has sytematically and illegally failed...</td>\n",
       "    </tr>\n",
       "    <tr>\n",
       "      <th>4</th>\n",
       "      <td>Student loan</td>\n",
       "      <td>My wife became eligible for XXXX Loan Forgiven...</td>\n",
       "    </tr>\n",
       "  </tbody>\n",
       "</table>\n",
       "</div>"
      ],
      "text/plain": [
       "        Product                       Consumer complaint narrative\n",
       "0  Student loan  In XX/XX/XXXX I filled out the Fedlaon applica...\n",
       "1  Student loan  I am being contacted by a debt collector for p...\n",
       "2  Student loan  I cosigned XXXX student loans at SallieMae for...\n",
       "3  Student loan  Navient has sytematically and illegally failed...\n",
       "4  Student loan  My wife became eligible for XXXX Loan Forgiven..."
      ]
     },
     "execution_count": 85,
     "metadata": {},
     "output_type": "execute_result"
    }
   ],
   "source": [
    "import matplotlib.pyplot as plt\n",
    "import pandas as pd\n",
    "import numpy as np\n",
    "from sklearn.model_selection import train_test_split\n",
    "from keras.utils.np_utils import to_categorical\n",
    "from sklearn import preprocessing\n",
    "from keras.preprocessing.text import Tokenizer\n",
    "\n",
    "df = pd.read_csv('Bank_complaints.csv')\n",
    "df.head()"
   ]
  },
  {
   "cell_type": "code",
   "execution_count": 86,
   "metadata": {},
   "outputs": [],
   "source": [
    "import random\n",
    "random.seed(123)\n",
    "df = df.sample(10000)\n",
    "df.index = range(10000)\n",
    "product = df[\"Product\"]\n",
    "complaints = df[\"Consumer complaint narrative\"]"
   ]
  },
  {
   "cell_type": "markdown",
   "metadata": {},
   "source": [
    "There are 7 types of complaints"
   ]
  },
  {
   "cell_type": "code",
   "execution_count": 87,
   "metadata": {},
   "outputs": [
    {
     "name": "stdout",
     "output_type": "stream",
     "text": [
      "<class 'pandas.core.frame.DataFrame'>\n",
      "RangeIndex: 10000 entries, 0 to 9999\n",
      "Data columns (total 2 columns):\n",
      "Product                         10000 non-null object\n",
      "Consumer complaint narrative    10000 non-null object\n",
      "dtypes: object(2)\n",
      "memory usage: 156.3+ KB\n"
     ]
    }
   ],
   "source": [
    "df.info()"
   ]
  },
  {
   "cell_type": "markdown",
   "metadata": {},
   "source": [
    "### 2.2 One-hot encoding of the complaints"
   ]
  },
  {
   "cell_type": "markdown",
   "metadata": {},
   "source": [
    "Only keep 2,000 most common words and use one-hot encoding"
   ]
  },
  {
   "cell_type": "code",
   "execution_count": 88,
   "metadata": {},
   "outputs": [],
   "source": [
    "tokenizer = Tokenizer(num_words=2000)\n",
    "tokenizer.fit_on_texts(complaints)"
   ]
  },
  {
   "cell_type": "code",
   "execution_count": 89,
   "metadata": {},
   "outputs": [],
   "source": [
    "sequences = tokenizer.texts_to_sequences(complaints)"
   ]
  },
  {
   "cell_type": "code",
   "execution_count": 90,
   "metadata": {},
   "outputs": [
    {
     "data": {
      "text/plain": [
       "(10000, 2000)"
      ]
     },
     "execution_count": 90,
     "metadata": {},
     "output_type": "execute_result"
    }
   ],
   "source": [
    "one_hot_results= tokenizer.texts_to_matrix(complaints, mode='binary')\n",
    "word_index = tokenizer.word_index\n",
    "np.shape(one_hot_results)"
   ]
  },
  {
   "cell_type": "markdown",
   "metadata": {},
   "source": [
    "### 2.3 One-hot encoding of the products"
   ]
  },
  {
   "cell_type": "markdown",
   "metadata": {},
   "source": [
    "Use LabelEncoder to encode the labels (From category names to category numbers)"
   ]
  },
  {
   "cell_type": "code",
   "execution_count": 91,
   "metadata": {},
   "outputs": [
    {
     "data": {
      "text/plain": [
       "LabelEncoder()"
      ]
     },
     "execution_count": 91,
     "metadata": {},
     "output_type": "execute_result"
    }
   ],
   "source": [
    "le = preprocessing.LabelEncoder()\n",
    "le.fit(product)"
   ]
  },
  {
   "cell_type": "code",
   "execution_count": 92,
   "metadata": {},
   "outputs": [
    {
     "data": {
      "text/plain": [
       "['Bank account or service',\n",
       " 'Checking or savings account',\n",
       " 'Consumer Loan',\n",
       " 'Credit card',\n",
       " 'Credit reporting',\n",
       " 'Mortgage',\n",
       " 'Student loan']"
      ]
     },
     "execution_count": 92,
     "metadata": {},
     "output_type": "execute_result"
    }
   ],
   "source": [
    " list(le.classes_)"
   ]
  },
  {
   "cell_type": "markdown",
   "metadata": {},
   "source": [
    "Transform `product` into a numeric vector"
   ]
  },
  {
   "cell_type": "code",
   "execution_count": 93,
   "metadata": {},
   "outputs": [
    {
     "data": {
      "text/plain": [
       "array([4, 1, 2, ..., 5, 2, 6])"
      ]
     },
     "execution_count": 93,
     "metadata": {},
     "output_type": "execute_result"
    }
   ],
   "source": [
    "product_cat = le.transform(product) \n",
    "product_cat"
   ]
  },
  {
   "cell_type": "markdown",
   "metadata": {},
   "source": [
    "Then, use onehot encoding to get to vectors with 0's and 1's."
   ]
  },
  {
   "cell_type": "code",
   "execution_count": 94,
   "metadata": {},
   "outputs": [],
   "source": [
    "product_onehot = to_categorical(product_cat)"
   ]
  },
  {
   "cell_type": "code",
   "execution_count": 95,
   "metadata": {},
   "outputs": [
    {
     "data": {
      "text/plain": [
       "array([[0., 0., 0., ..., 1., 0., 0.],\n",
       "       [0., 1., 0., ..., 0., 0., 0.],\n",
       "       [0., 0., 1., ..., 0., 0., 0.],\n",
       "       ...,\n",
       "       [0., 0., 0., ..., 0., 1., 0.],\n",
       "       [0., 0., 1., ..., 0., 0., 0.],\n",
       "       [0., 0., 0., ..., 0., 0., 1.]])"
      ]
     },
     "execution_count": 95,
     "metadata": {},
     "output_type": "execute_result"
    }
   ],
   "source": [
    "product_onehot"
   ]
  },
  {
   "cell_type": "code",
   "execution_count": 96,
   "metadata": {},
   "outputs": [
    {
     "data": {
      "text/plain": [
       "(10000, 7)"
      ]
     },
     "execution_count": 96,
     "metadata": {},
     "output_type": "execute_result"
    }
   ],
   "source": [
    "np.shape(product_onehot)"
   ]
  },
  {
   "cell_type": "markdown",
   "metadata": {},
   "source": [
    "### 2.4 Train - test split"
   ]
  },
  {
   "cell_type": "code",
   "execution_count": 97,
   "metadata": {},
   "outputs": [],
   "source": [
    "import random\n",
    "random.seed(123)\n",
    "test_index = random.sample(range(1,10000), 1500)"
   ]
  },
  {
   "cell_type": "code",
   "execution_count": 98,
   "metadata": {},
   "outputs": [],
   "source": [
    "test = one_hot_results[test_index]\n",
    "train = np.delete(one_hot_results, test_index, 0)"
   ]
  },
  {
   "cell_type": "code",
   "execution_count": 99,
   "metadata": {},
   "outputs": [],
   "source": [
    "label_test = product_onehot[test_index]\n",
    "label_train = np.delete(product_onehot, test_index, 0)"
   ]
  },
  {
   "cell_type": "code",
   "execution_count": 100,
   "metadata": {},
   "outputs": [
    {
     "name": "stdout",
     "output_type": "stream",
     "text": [
      "(1500, 7)\n",
      "(8500, 7)\n",
      "(1500, 2000)\n",
      "(8500, 2000)\n"
     ]
    }
   ],
   "source": [
    "print(np.shape(label_test))\n",
    "print(np.shape(label_train))\n",
    "print(np.shape(test))\n",
    "print(np.shape(train))"
   ]
  },
  {
   "cell_type": "markdown",
   "metadata": {},
   "source": [
    "## 3. Running the model using a validation set."
   ]
  },
  {
   "cell_type": "markdown",
   "metadata": {},
   "source": [
    "### 3.1 Creating the validation set"
   ]
  },
  {
   "cell_type": "markdown",
   "metadata": {},
   "source": [
    "In the lecture we mentioned that in deep learning, we generally keep aside a validation set, which is used during hyperparameter tuning. Then when we have made the final model decision, the test set is used to define the final model perforance. \n",
    "\n",
    "In this example, let's take the first 1000 cases out of the training set to become the validation set. You should do this for both `train` and `label_train`."
   ]
  },
  {
   "cell_type": "code",
   "execution_count": 101,
   "metadata": {},
   "outputs": [],
   "source": [
    "random.seed(123)\n",
    "val = train[:1000]\n",
    "train_final = train[1000:]\n",
    "label_val = label_train[:1000]\n",
    "label_train_final = label_train[1000:]"
   ]
  },
  {
   "cell_type": "markdown",
   "metadata": {},
   "source": [
    "### 3.2 Creating, compiling and running the model"
   ]
  },
  {
   "cell_type": "markdown",
   "metadata": {},
   "source": [
    "Let's rebuild a fully connected (Dense) layer network with relu activations in Keras."
   ]
  },
  {
   "cell_type": "markdown",
   "metadata": {},
   "source": [
    "Recall that we used 2 hidden with 50 units in the first layer and 25 in the second, both with a `relu` activation function. Because we are dealing with a multiclass problem (classifying the complaints into 7 classes), we use a use a softmax classifyer in order to output 7 class probabilities per case."
   ]
  },
  {
   "cell_type": "code",
   "execution_count": 102,
   "metadata": {},
   "outputs": [],
   "source": [
    "from keras import models\n",
    "from keras import layers\n",
    "model = models.Sequential()\n",
    "model.add(layers.Dense(50, activation='relu', input_shape=(2000,))) #2 hidden layers\n",
    "model.add(layers.Dense(25, activation='relu'))\n",
    "model.add(layers.Dense(7, activation='softmax'))"
   ]
  },
  {
   "cell_type": "markdown",
   "metadata": {},
   "source": [
    "We use the same settings as before to compile the model"
   ]
  },
  {
   "cell_type": "code",
   "execution_count": 103,
   "metadata": {},
   "outputs": [],
   "source": [
    "model.compile(optimizer='SGD',\n",
    "              loss='categorical_crossentropy',\n",
    "              metrics=['accuracy'])"
   ]
  },
  {
   "cell_type": "markdown",
   "metadata": {},
   "source": [
    "In the compiler, you'll be passing the optimizer, loss function, and metrics. Train the model for 120 epochs in mini-batches of 256 samples. This time, let's include the argument `validation_data` and assign it `(val, label_val)`"
   ]
  },
  {
   "cell_type": "code",
   "execution_count": 104,
   "metadata": {},
   "outputs": [
    {
     "name": "stdout",
     "output_type": "stream",
     "text": [
      "Train on 7500 samples, validate on 1000 samples\n",
      "Epoch 1/120\n",
      "7500/7500 [==============================] - 1s 90us/step - loss: 1.9229 - acc: 0.2043 - val_loss: 1.9183 - val_acc: 0.1990\n",
      "Epoch 2/120\n",
      "7500/7500 [==============================] - 0s 54us/step - loss: 1.8940 - acc: 0.2269 - val_loss: 1.8931 - val_acc: 0.2130\n",
      "Epoch 3/120\n",
      "7500/7500 [==============================] - 0s 49us/step - loss: 1.8668 - acc: 0.2431 - val_loss: 1.8655 - val_acc: 0.2270\n",
      "Epoch 4/120\n",
      "7500/7500 [==============================] - 0s 53us/step - loss: 1.8360 - acc: 0.2629 - val_loss: 1.8319 - val_acc: 0.2380\n",
      "Epoch 5/120\n",
      "7500/7500 [==============================] - 0s 66us/step - loss: 1.7991 - acc: 0.2900 - val_loss: 1.7915 - val_acc: 0.2680\n",
      "Epoch 6/120\n",
      "7500/7500 [==============================] - 0s 60us/step - loss: 1.7558 - acc: 0.3209 - val_loss: 1.7430 - val_acc: 0.3190\n",
      "Epoch 7/120\n",
      "7500/7500 [==============================] - 0s 53us/step - loss: 1.7065 - acc: 0.3632 - val_loss: 1.6905 - val_acc: 0.3510\n",
      "Epoch 8/120\n",
      "7500/7500 [==============================] - 0s 54us/step - loss: 1.6525 - acc: 0.4101 - val_loss: 1.6337 - val_acc: 0.4000\n",
      "Epoch 9/120\n",
      "7500/7500 [==============================] - 0s 58us/step - loss: 1.5940 - acc: 0.4525 - val_loss: 1.5738 - val_acc: 0.4460\n",
      "Epoch 10/120\n",
      "7500/7500 [==============================] - 0s 54us/step - loss: 1.5331 - acc: 0.5024 - val_loss: 1.5115 - val_acc: 0.4910\n",
      "Epoch 11/120\n",
      "7500/7500 [==============================] - 0s 52us/step - loss: 1.4705 - acc: 0.5415 - val_loss: 1.4497 - val_acc: 0.5190\n",
      "Epoch 12/120\n",
      "7500/7500 [==============================] - 0s 62us/step - loss: 1.4082 - acc: 0.5692 - val_loss: 1.3896 - val_acc: 0.5510\n",
      "Epoch 13/120\n",
      "7500/7500 [==============================] - 0s 55us/step - loss: 1.3491 - acc: 0.5980 - val_loss: 1.3324 - val_acc: 0.5830\n",
      "Epoch 14/120\n",
      "7500/7500 [==============================] - 0s 51us/step - loss: 1.2924 - acc: 0.6184 - val_loss: 1.2791 - val_acc: 0.6070\n",
      "Epoch 15/120\n",
      "7500/7500 [==============================] - 0s 53us/step - loss: 1.2390 - acc: 0.6344 - val_loss: 1.2286 - val_acc: 0.6260\n",
      "Epoch 16/120\n",
      "7500/7500 [==============================] - 0s 54us/step - loss: 1.1884 - acc: 0.6532 - val_loss: 1.1835 - val_acc: 0.6190\n",
      "Epoch 17/120\n",
      "7500/7500 [==============================] - 0s 49us/step - loss: 1.1417 - acc: 0.6705 - val_loss: 1.1396 - val_acc: 0.6390\n",
      "Epoch 18/120\n",
      "7500/7500 [==============================] - 0s 60us/step - loss: 1.0981 - acc: 0.6789 - val_loss: 1.1007 - val_acc: 0.6380\n",
      "Epoch 19/120\n",
      "7500/7500 [==============================] - 0s 55us/step - loss: 1.0581 - acc: 0.6901 - val_loss: 1.0628 - val_acc: 0.6590\n",
      "Epoch 20/120\n",
      "7500/7500 [==============================] - 0s 58us/step - loss: 1.0209 - acc: 0.6996 - val_loss: 1.0307 - val_acc: 0.6620\n",
      "Epoch 21/120\n",
      "7500/7500 [==============================] - 0s 54us/step - loss: 0.9868 - acc: 0.7067 - val_loss: 0.9991 - val_acc: 0.6750\n",
      "Epoch 22/120\n",
      "7500/7500 [==============================] - 0s 59us/step - loss: 0.9549 - acc: 0.7184 - val_loss: 0.9712 - val_acc: 0.6780\n",
      "Epoch 23/120\n",
      "7500/7500 [==============================] - 0s 60us/step - loss: 0.9256 - acc: 0.7203 - val_loss: 0.9472 - val_acc: 0.6840\n",
      "Epoch 24/120\n",
      "7500/7500 [==============================] - 0s 55us/step - loss: 0.8985 - acc: 0.7295 - val_loss: 0.9200 - val_acc: 0.6900\n",
      "Epoch 25/120\n",
      "7500/7500 [==============================] - 0s 59us/step - loss: 0.8736 - acc: 0.7327 - val_loss: 0.8991 - val_acc: 0.6960\n",
      "Epoch 26/120\n",
      "7500/7500 [==============================] - 0s 59us/step - loss: 0.8501 - acc: 0.7360 - val_loss: 0.8791 - val_acc: 0.6970\n",
      "Epoch 27/120\n",
      "7500/7500 [==============================] - 0s 54us/step - loss: 0.8282 - acc: 0.7413 - val_loss: 0.8629 - val_acc: 0.6950\n",
      "Epoch 28/120\n",
      "7500/7500 [==============================] - 0s 60us/step - loss: 0.8085 - acc: 0.7468 - val_loss: 0.8459 - val_acc: 0.7040\n",
      "Epoch 29/120\n",
      "7500/7500 [==============================] - 0s 64us/step - loss: 0.7901 - acc: 0.7504 - val_loss: 0.8307 - val_acc: 0.7060\n",
      "Epoch 30/120\n",
      "7500/7500 [==============================] - 0s 61us/step - loss: 0.7729 - acc: 0.7535 - val_loss: 0.8159 - val_acc: 0.7130\n",
      "Epoch 31/120\n",
      "7500/7500 [==============================] - 0s 60us/step - loss: 0.7570 - acc: 0.7600 - val_loss: 0.8036 - val_acc: 0.7140\n",
      "Epoch 32/120\n",
      "7500/7500 [==============================] - 0s 58us/step - loss: 0.7417 - acc: 0.7612 - val_loss: 0.7915 - val_acc: 0.7080\n",
      "Epoch 33/120\n",
      "7500/7500 [==============================] - 0s 54us/step - loss: 0.7282 - acc: 0.7648 - val_loss: 0.7822 - val_acc: 0.7080\n",
      "Epoch 34/120\n",
      "7500/7500 [==============================] - 0s 61us/step - loss: 0.7150 - acc: 0.7664 - val_loss: 0.7707 - val_acc: 0.7200\n",
      "Epoch 35/120\n",
      "7500/7500 [==============================] - 0s 57us/step - loss: 0.7023 - acc: 0.7713 - val_loss: 0.7631 - val_acc: 0.7090\n",
      "Epoch 36/120\n",
      "7500/7500 [==============================] - 0s 60us/step - loss: 0.6909 - acc: 0.7729 - val_loss: 0.7520 - val_acc: 0.7190\n",
      "Epoch 37/120\n",
      "7500/7500 [==============================] - 0s 55us/step - loss: 0.6802 - acc: 0.7749 - val_loss: 0.7443 - val_acc: 0.7160\n",
      "Epoch 38/120\n",
      "7500/7500 [==============================] - 0s 55us/step - loss: 0.6692 - acc: 0.7779 - val_loss: 0.7363 - val_acc: 0.7240\n",
      "Epoch 39/120\n",
      "7500/7500 [==============================] - 0s 61us/step - loss: 0.6596 - acc: 0.7812 - val_loss: 0.7328 - val_acc: 0.7190\n",
      "Epoch 40/120\n",
      "7500/7500 [==============================] - 0s 56us/step - loss: 0.6501 - acc: 0.7852 - val_loss: 0.7251 - val_acc: 0.7250\n",
      "Epoch 41/120\n",
      "7500/7500 [==============================] - 0s 55us/step - loss: 0.6415 - acc: 0.7871 - val_loss: 0.7200 - val_acc: 0.7250\n",
      "Epoch 42/120\n",
      "7500/7500 [==============================] - 0s 54us/step - loss: 0.6329 - acc: 0.7880 - val_loss: 0.7138 - val_acc: 0.7270\n",
      "Epoch 43/120\n",
      "7500/7500 [==============================] - 0s 60us/step - loss: 0.6247 - acc: 0.7905 - val_loss: 0.7091 - val_acc: 0.7300\n",
      "Epoch 44/120\n",
      "7500/7500 [==============================] - 0s 54us/step - loss: 0.6171 - acc: 0.7891 - val_loss: 0.7030 - val_acc: 0.7280\n",
      "Epoch 45/120\n",
      "7500/7500 [==============================] - 0s 59us/step - loss: 0.6095 - acc: 0.7972 - val_loss: 0.6998 - val_acc: 0.7290\n",
      "Epoch 46/120\n",
      "7500/7500 [==============================] - 0s 58us/step - loss: 0.6023 - acc: 0.7949 - val_loss: 0.6945 - val_acc: 0.7310\n",
      "Epoch 47/120\n",
      "7500/7500 [==============================] - 0s 57us/step - loss: 0.5956 - acc: 0.7995 - val_loss: 0.6916 - val_acc: 0.7330\n",
      "Epoch 48/120\n",
      "7500/7500 [==============================] - 0s 54us/step - loss: 0.5887 - acc: 0.8000 - val_loss: 0.6857 - val_acc: 0.7370\n",
      "Epoch 49/120\n",
      "7500/7500 [==============================] - 1s 77us/step - loss: 0.5823 - acc: 0.8039 - val_loss: 0.6835 - val_acc: 0.7340\n",
      "Epoch 50/120\n",
      "7500/7500 [==============================] - 0s 63us/step - loss: 0.5762 - acc: 0.8055 - val_loss: 0.6803 - val_acc: 0.7360\n",
      "Epoch 51/120\n",
      "7500/7500 [==============================] - 0s 60us/step - loss: 0.5699 - acc: 0.8047 - val_loss: 0.6769 - val_acc: 0.7360\n",
      "Epoch 52/120\n",
      "7500/7500 [==============================] - 1s 67us/step - loss: 0.5643 - acc: 0.8096 - val_loss: 0.6753 - val_acc: 0.7410\n",
      "Epoch 53/120\n",
      "7500/7500 [==============================] - 0s 64us/step - loss: 0.5582 - acc: 0.8111 - val_loss: 0.6749 - val_acc: 0.7410\n",
      "Epoch 54/120\n",
      "7500/7500 [==============================] - 0s 60us/step - loss: 0.5537 - acc: 0.8128 - val_loss: 0.6698 - val_acc: 0.7380\n",
      "Epoch 55/120\n",
      "7500/7500 [==============================] - 0s 60us/step - loss: 0.5478 - acc: 0.8127 - val_loss: 0.6686 - val_acc: 0.7350\n",
      "Epoch 56/120\n",
      "7500/7500 [==============================] - 0s 56us/step - loss: 0.5427 - acc: 0.8145 - val_loss: 0.6654 - val_acc: 0.7420\n",
      "Epoch 57/120\n",
      "7500/7500 [==============================] - 0s 66us/step - loss: 0.5374 - acc: 0.8185 - val_loss: 0.6644 - val_acc: 0.7400\n",
      "Epoch 58/120\n",
      "7500/7500 [==============================] - 0s 55us/step - loss: 0.5324 - acc: 0.8200 - val_loss: 0.6639 - val_acc: 0.7360\n",
      "Epoch 59/120\n",
      "7500/7500 [==============================] - 0s 60us/step - loss: 0.5272 - acc: 0.8240 - val_loss: 0.6642 - val_acc: 0.7400\n",
      "Epoch 60/120\n"
     ]
    },
    {
     "name": "stdout",
     "output_type": "stream",
     "text": [
      "7500/7500 [==============================] - 0s 64us/step - loss: 0.5232 - acc: 0.8217 - val_loss: 0.6583 - val_acc: 0.7350\n",
      "Epoch 61/120\n",
      "7500/7500 [==============================] - 0s 61us/step - loss: 0.5180 - acc: 0.8241 - val_loss: 0.6561 - val_acc: 0.7460\n",
      "Epoch 62/120\n",
      "7500/7500 [==============================] - 0s 65us/step - loss: 0.5136 - acc: 0.8249 - val_loss: 0.6548 - val_acc: 0.7460\n",
      "Epoch 63/120\n",
      "7500/7500 [==============================] - 0s 64us/step - loss: 0.5092 - acc: 0.8280 - val_loss: 0.6520 - val_acc: 0.7450\n",
      "Epoch 64/120\n",
      "7500/7500 [==============================] - 0s 64us/step - loss: 0.5049 - acc: 0.8303 - val_loss: 0.6522 - val_acc: 0.7370\n",
      "Epoch 65/120\n",
      "7500/7500 [==============================] - 0s 59us/step - loss: 0.5004 - acc: 0.8331 - val_loss: 0.6500 - val_acc: 0.7440\n",
      "Epoch 66/120\n",
      "7500/7500 [==============================] - 0s 58us/step - loss: 0.4962 - acc: 0.8331 - val_loss: 0.6495 - val_acc: 0.7390\n",
      "Epoch 67/120\n",
      "7500/7500 [==============================] - 0s 62us/step - loss: 0.4922 - acc: 0.8349 - val_loss: 0.6484 - val_acc: 0.7440\n",
      "Epoch 68/120\n",
      "7500/7500 [==============================] - 1s 87us/step - loss: 0.4875 - acc: 0.8383 - val_loss: 0.6496 - val_acc: 0.7400\n",
      "Epoch 69/120\n",
      "7500/7500 [==============================] - 0s 60us/step - loss: 0.4842 - acc: 0.8384 - val_loss: 0.6468 - val_acc: 0.7410\n",
      "Epoch 70/120\n",
      "7500/7500 [==============================] - 0s 53us/step - loss: 0.4804 - acc: 0.8416 - val_loss: 0.6448 - val_acc: 0.7450\n",
      "Epoch 71/120\n",
      "7500/7500 [==============================] - 0s 60us/step - loss: 0.4763 - acc: 0.8416 - val_loss: 0.6433 - val_acc: 0.7420\n",
      "Epoch 72/120\n",
      "7500/7500 [==============================] - 0s 64us/step - loss: 0.4720 - acc: 0.8437 - val_loss: 0.6454 - val_acc: 0.7470\n",
      "Epoch 73/120\n",
      "7500/7500 [==============================] - 0s 63us/step - loss: 0.4690 - acc: 0.8457 - val_loss: 0.6449 - val_acc: 0.7370\n",
      "Epoch 74/120\n",
      "7500/7500 [==============================] - 0s 53us/step - loss: 0.4651 - acc: 0.8456 - val_loss: 0.6405 - val_acc: 0.7440\n",
      "Epoch 75/120\n",
      "7500/7500 [==============================] - 0s 58us/step - loss: 0.4612 - acc: 0.8477 - val_loss: 0.6395 - val_acc: 0.7470\n",
      "Epoch 76/120\n",
      "7500/7500 [==============================] - 0s 60us/step - loss: 0.4578 - acc: 0.8496 - val_loss: 0.6386 - val_acc: 0.7470\n",
      "Epoch 77/120\n",
      "7500/7500 [==============================] - 0s 53us/step - loss: 0.4544 - acc: 0.8481 - val_loss: 0.6391 - val_acc: 0.7430\n",
      "Epoch 78/120\n",
      "7500/7500 [==============================] - 0s 58us/step - loss: 0.4508 - acc: 0.8515 - val_loss: 0.6386 - val_acc: 0.7460\n",
      "Epoch 79/120\n",
      "7500/7500 [==============================] - 0s 52us/step - loss: 0.4474 - acc: 0.8527 - val_loss: 0.6391 - val_acc: 0.7440\n",
      "Epoch 80/120\n",
      "7500/7500 [==============================] - 0s 58us/step - loss: 0.4436 - acc: 0.8532 - val_loss: 0.6390 - val_acc: 0.7420\n",
      "Epoch 81/120\n",
      "7500/7500 [==============================] - 0s 56us/step - loss: 0.4404 - acc: 0.8564 - val_loss: 0.6374 - val_acc: 0.7450\n",
      "Epoch 82/120\n",
      "7500/7500 [==============================] - 0s 57us/step - loss: 0.4371 - acc: 0.8565 - val_loss: 0.6371 - val_acc: 0.7480\n",
      "Epoch 83/120\n",
      "7500/7500 [==============================] - 0s 63us/step - loss: 0.4341 - acc: 0.8577 - val_loss: 0.6374 - val_acc: 0.7440\n",
      "Epoch 84/120\n",
      "7500/7500 [==============================] - 0s 56us/step - loss: 0.4306 - acc: 0.8587 - val_loss: 0.6384 - val_acc: 0.7480\n",
      "Epoch 85/120\n",
      "7500/7500 [==============================] - 0s 60us/step - loss: 0.4277 - acc: 0.8607 - val_loss: 0.6393 - val_acc: 0.7460\n",
      "Epoch 86/120\n",
      "7500/7500 [==============================] - 0s 59us/step - loss: 0.4242 - acc: 0.8616 - val_loss: 0.6370 - val_acc: 0.7460\n",
      "Epoch 87/120\n",
      "7500/7500 [==============================] - 0s 61us/step - loss: 0.4214 - acc: 0.8624 - val_loss: 0.6352 - val_acc: 0.7490\n",
      "Epoch 88/120\n",
      "7500/7500 [==============================] - 0s 63us/step - loss: 0.4181 - acc: 0.8639 - val_loss: 0.6337 - val_acc: 0.7480\n",
      "Epoch 89/120\n",
      "7500/7500 [==============================] - 0s 59us/step - loss: 0.4156 - acc: 0.8651 - val_loss: 0.6359 - val_acc: 0.7470\n",
      "Epoch 90/120\n",
      "7500/7500 [==============================] - 0s 54us/step - loss: 0.4118 - acc: 0.8665 - val_loss: 0.6362 - val_acc: 0.7500\n",
      "Epoch 91/120\n",
      "7500/7500 [==============================] - 0s 55us/step - loss: 0.4089 - acc: 0.8684 - val_loss: 0.6341 - val_acc: 0.7490\n",
      "Epoch 92/120\n",
      "7500/7500 [==============================] - 0s 58us/step - loss: 0.4060 - acc: 0.8695 - val_loss: 0.6378 - val_acc: 0.7500\n",
      "Epoch 93/120\n",
      "7500/7500 [==============================] - 0s 52us/step - loss: 0.4031 - acc: 0.8705 - val_loss: 0.6348 - val_acc: 0.7460\n",
      "Epoch 94/120\n",
      "7500/7500 [==============================] - 0s 56us/step - loss: 0.4006 - acc: 0.8715 - val_loss: 0.6359 - val_acc: 0.7440\n",
      "Epoch 95/120\n",
      "7500/7500 [==============================] - 0s 55us/step - loss: 0.3974 - acc: 0.8719 - val_loss: 0.6340 - val_acc: 0.7540\n",
      "Epoch 96/120\n",
      "7500/7500 [==============================] - 0s 55us/step - loss: 0.3948 - acc: 0.8737 - val_loss: 0.6361 - val_acc: 0.7520\n",
      "Epoch 97/120\n",
      "7500/7500 [==============================] - 0s 53us/step - loss: 0.3922 - acc: 0.8757 - val_loss: 0.6354 - val_acc: 0.7520\n",
      "Epoch 98/120\n",
      "7500/7500 [==============================] - 0s 51us/step - loss: 0.3893 - acc: 0.8761 - val_loss: 0.6342 - val_acc: 0.7530\n",
      "Epoch 99/120\n",
      "7500/7500 [==============================] - 0s 58us/step - loss: 0.3863 - acc: 0.8763 - val_loss: 0.6344 - val_acc: 0.7520\n",
      "Epoch 100/120\n",
      "7500/7500 [==============================] - 0s 63us/step - loss: 0.3835 - acc: 0.8772 - val_loss: 0.6411 - val_acc: 0.7510\n",
      "Epoch 101/120\n",
      "7500/7500 [==============================] - 0s 54us/step - loss: 0.3812 - acc: 0.8797 - val_loss: 0.6357 - val_acc: 0.7510\n",
      "Epoch 102/120\n",
      "7500/7500 [==============================] - 0s 58us/step - loss: 0.3786 - acc: 0.8799 - val_loss: 0.6347 - val_acc: 0.7530\n",
      "Epoch 103/120\n",
      "7500/7500 [==============================] - 0s 56us/step - loss: 0.3759 - acc: 0.8803 - val_loss: 0.6360 - val_acc: 0.7510\n",
      "Epoch 104/120\n",
      "7500/7500 [==============================] - 0s 55us/step - loss: 0.3732 - acc: 0.8807 - val_loss: 0.6364 - val_acc: 0.7470\n",
      "Epoch 105/120\n",
      "7500/7500 [==============================] - 0s 60us/step - loss: 0.3709 - acc: 0.8808 - val_loss: 0.6366 - val_acc: 0.7510\n",
      "Epoch 106/120\n",
      "7500/7500 [==============================] - 0s 57us/step - loss: 0.3678 - acc: 0.8835 - val_loss: 0.6360 - val_acc: 0.7500\n",
      "Epoch 107/120\n",
      "7500/7500 [==============================] - 0s 59us/step - loss: 0.3654 - acc: 0.8837 - val_loss: 0.6366 - val_acc: 0.7470\n",
      "Epoch 108/120\n",
      "7500/7500 [==============================] - 0s 56us/step - loss: 0.3631 - acc: 0.8840 - val_loss: 0.6365 - val_acc: 0.7470\n",
      "Epoch 109/120\n",
      "7500/7500 [==============================] - 0s 56us/step - loss: 0.3605 - acc: 0.8864 - val_loss: 0.6370 - val_acc: 0.7500\n",
      "Epoch 110/120\n",
      "7500/7500 [==============================] - 0s 58us/step - loss: 0.3585 - acc: 0.8853 - val_loss: 0.6394 - val_acc: 0.7500\n",
      "Epoch 111/120\n",
      "7500/7500 [==============================] - 0s 58us/step - loss: 0.3553 - acc: 0.8885 - val_loss: 0.6390 - val_acc: 0.7420\n",
      "Epoch 112/120\n",
      "7500/7500 [==============================] - 0s 61us/step - loss: 0.3530 - acc: 0.8903 - val_loss: 0.6395 - val_acc: 0.7470\n",
      "Epoch 113/120\n",
      "7500/7500 [==============================] - 0s 53us/step - loss: 0.3509 - acc: 0.8899 - val_loss: 0.6384 - val_acc: 0.7500\n",
      "Epoch 114/120\n",
      "7500/7500 [==============================] - 0s 49us/step - loss: 0.3481 - acc: 0.8905 - val_loss: 0.6380 - val_acc: 0.7460\n",
      "Epoch 115/120\n",
      "7500/7500 [==============================] - 0s 55us/step - loss: 0.3460 - acc: 0.8927 - val_loss: 0.6379 - val_acc: 0.7530\n",
      "Epoch 116/120\n",
      "7500/7500 [==============================] - 0s 53us/step - loss: 0.3435 - acc: 0.8913 - val_loss: 0.6424 - val_acc: 0.7550\n",
      "Epoch 117/120\n",
      "7500/7500 [==============================] - 0s 60us/step - loss: 0.3414 - acc: 0.8944 - val_loss: 0.6394 - val_acc: 0.7460\n",
      "Epoch 118/120\n",
      "7500/7500 [==============================] - 0s 56us/step - loss: 0.3390 - acc: 0.8921 - val_loss: 0.6424 - val_acc: 0.7460\n",
      "Epoch 119/120\n",
      "7500/7500 [==============================] - 0s 56us/step - loss: 0.3372 - acc: 0.8935 - val_loss: 0.6408 - val_acc: 0.7460\n"
     ]
    },
    {
     "name": "stdout",
     "output_type": "stream",
     "text": [
      "Epoch 120/120\n",
      "7500/7500 [==============================] - 0s 54us/step - loss: 0.3346 - acc: 0.8963 - val_loss: 0.6414 - val_acc: 0.7440\n"
     ]
    }
   ],
   "source": [
    "history = model.fit(train_final,\n",
    "                    label_train_final,\n",
    "                    epochs=120,\n",
    "                    batch_size=256,\n",
    "                    validation_data=(val, label_val))"
   ]
  },
  {
   "cell_type": "markdown",
   "metadata": {},
   "source": [
    "The dictionary `history` contains four entries this time: one per metric that was being monitored during training and during validation."
   ]
  },
  {
   "cell_type": "code",
   "execution_count": 106,
   "metadata": {},
   "outputs": [
    {
     "data": {
      "text/plain": [
       "dict_keys(['val_loss', 'val_acc', 'loss', 'acc'])"
      ]
     },
     "execution_count": 106,
     "metadata": {},
     "output_type": "execute_result"
    }
   ],
   "source": [
    "history_dict = history.history\n",
    "history_dict.keys()"
   ]
  },
  {
   "cell_type": "markdown",
   "metadata": {},
   "source": [
    "### Plotting the results"
   ]
  },
  {
   "cell_type": "markdown",
   "metadata": {},
   "source": [
    "Let's plot the result similarly to what we have done in the previous lab. This time though, let's iclude the training and the validation loss in the same plot. We'll do the same thing for the training and validation accuracy."
   ]
  },
  {
   "cell_type": "code",
   "execution_count": 110,
   "metadata": {},
   "outputs": [
    {
     "data": {
      "image/png": "[encoded data removed]",
      "text/plain": [
       "<matplotlib.figure.Figure at 0x1a17c64c50>"
      ]
     },
     "metadata": {},
     "output_type": "display_data"
    }
   ],
   "source": [
    "plt.clf()\n",
    "\n",
    "import matplotlib.pyplot as plt\n",
    "history_dict = history.history\n",
    "loss_values = history_dict['loss']\n",
    "val_loss_values = history_dict['val_loss']\n",
    "\n",
    "epochs = range(1, len(loss_values) + 1)\n",
    "plt.plot(epochs, loss_values, 'g', label='Training loss')\n",
    "plt.plot(epochs, val_loss_values, 'g.', label='Validation loss')\n",
    "\n",
    "plt.title('Training & validation loss')\n",
    "plt.xlabel('Epochs')\n",
    "plt.ylabel('Loss')\n",
    "plt.legend()\n",
    "plt.show()"
   ]
  },
  {
   "cell_type": "code",
   "execution_count": 112,
   "metadata": {},
   "outputs": [
    {
     "data": {
      "image/png": "[encoded data removed]",
      "text/plain": [
       "<matplotlib.figure.Figure at 0x1a17c7a4e0>"
      ]
     },
     "metadata": {},
     "output_type": "display_data"
    }
   ],
   "source": [
    "plt.clf()\n",
    "\n",
    "acc_values = history_dict['acc'] \n",
    "val_acc_values = history_dict['val_acc']\n",
    "\n",
    "plt.plot(epochs, acc_values, 'r', label='Training acc')\n",
    "plt.plot(epochs, val_acc_values, 'r.', label='Validation acc')\n",
    "plt.title('Training & validation accuracy')\n",
    "plt.xlabel('Epochs')\n",
    "plt.ylabel('Loss')\n",
    "plt.legend()\n",
    "plt.show()"
   ]
  },
  {
   "cell_type": "markdown",
   "metadata": {},
   "source": [
    "We observe an interesting pattern here: although the training accuracy keeps increasing when going through more epochs, and the training loss keeps decreasing, the validation accuracy and loss seem to be reaching a status quo around the 50th epoch. This means that we're actually **overfitting** to the train data when we do as many epochs as we were doing. Luckily, you learned how to tackle overfitting in the previous lecture! For starters, it does seem clear that we are training too long. So let's stop training at the 50th epoch first (so-called \"early stopping\") before we move to more advanced regularization techniques!"
   ]
  },
  {
   "cell_type": "markdown",
   "metadata": {},
   "source": [
    "## 3. Early stopping"
   ]
  },
  {
   "cell_type": "code",
   "execution_count": 113,
   "metadata": {},
   "outputs": [
    {
     "name": "stdout",
     "output_type": "stream",
     "text": [
      "Train on 7500 samples, validate on 1000 samples\n",
      "Epoch 1/50\n",
      "7500/7500 [==============================] - 1s 184us/step - loss: 1.9421 - acc: 0.1569 - val_loss: 1.9422 - val_acc: 0.1450\n",
      "Epoch 2/50\n",
      "7500/7500 [==============================] - 0s 57us/step - loss: 1.9232 - acc: 0.1736 - val_loss: 1.9281 - val_acc: 0.1560\n",
      "Epoch 3/50\n",
      "7500/7500 [==============================] - 0s 54us/step - loss: 1.9083 - acc: 0.1984 - val_loss: 1.9150 - val_acc: 0.1910\n",
      "Epoch 4/50\n",
      "7500/7500 [==============================] - 0s 51us/step - loss: 1.8939 - acc: 0.2221 - val_loss: 1.9017 - val_acc: 0.2110\n",
      "Epoch 5/50\n",
      "7500/7500 [==============================] - 0s 50us/step - loss: 1.8785 - acc: 0.2424 - val_loss: 1.8872 - val_acc: 0.2340\n",
      "Epoch 6/50\n",
      "7500/7500 [==============================] - 0s 46us/step - loss: 1.8615 - acc: 0.2589 - val_loss: 1.8710 - val_acc: 0.2500\n",
      "Epoch 7/50\n",
      "7500/7500 [==============================] - 0s 47us/step - loss: 1.8424 - acc: 0.2713 - val_loss: 1.8527 - val_acc: 0.2660\n",
      "Epoch 8/50\n",
      "7500/7500 [==============================] - 0s 47us/step - loss: 1.8207 - acc: 0.2949 - val_loss: 1.8314 - val_acc: 0.2850\n",
      "Epoch 9/50\n",
      "7500/7500 [==============================] - 0s 46us/step - loss: 1.7960 - acc: 0.3171 - val_loss: 1.8067 - val_acc: 0.3050\n",
      "Epoch 10/50\n",
      "7500/7500 [==============================] - 0s 52us/step - loss: 1.7678 - acc: 0.3448 - val_loss: 1.7788 - val_acc: 0.3280\n",
      "Epoch 11/50\n",
      "7500/7500 [==============================] - 0s 58us/step - loss: 1.7363 - acc: 0.3740 - val_loss: 1.7471 - val_acc: 0.3490\n",
      "Epoch 12/50\n",
      "7500/7500 [==============================] - 0s 54us/step - loss: 1.7011 - acc: 0.4005 - val_loss: 1.7111 - val_acc: 0.3920\n",
      "Epoch 13/50\n",
      "7500/7500 [==============================] - 0s 50us/step - loss: 1.6626 - acc: 0.4188 - val_loss: 1.6725 - val_acc: 0.4080\n",
      "Epoch 14/50\n",
      "7500/7500 [==============================] - 0s 59us/step - loss: 1.6210 - acc: 0.4477 - val_loss: 1.6321 - val_acc: 0.4270\n",
      "Epoch 15/50\n",
      "7500/7500 [==============================] - 0s 53us/step - loss: 1.5767 - acc: 0.4711 - val_loss: 1.5893 - val_acc: 0.4510\n",
      "Epoch 16/50\n",
      "7500/7500 [==============================] - 0s 49us/step - loss: 1.5306 - acc: 0.4888 - val_loss: 1.5452 - val_acc: 0.4670\n",
      "Epoch 17/50\n",
      "7500/7500 [==============================] - 0s 58us/step - loss: 1.4838 - acc: 0.5072 - val_loss: 1.5002 - val_acc: 0.4730\n",
      "Epoch 18/50\n",
      "7500/7500 [==============================] - 0s 54us/step - loss: 1.4369 - acc: 0.5304 - val_loss: 1.4555 - val_acc: 0.4930\n",
      "Epoch 19/50\n",
      "7500/7500 [==============================] - 0s 49us/step - loss: 1.3903 - acc: 0.5455 - val_loss: 1.4112 - val_acc: 0.5160\n",
      "Epoch 20/50\n",
      "7500/7500 [==============================] - 0s 48us/step - loss: 1.3446 - acc: 0.5643 - val_loss: 1.3671 - val_acc: 0.5270\n",
      "Epoch 21/50\n",
      "7500/7500 [==============================] - 0s 47us/step - loss: 1.3002 - acc: 0.5833 - val_loss: 1.3250 - val_acc: 0.5520\n",
      "Epoch 22/50\n",
      "7500/7500 [==============================] - 0s 54us/step - loss: 1.2567 - acc: 0.6023 - val_loss: 1.2846 - val_acc: 0.5690\n",
      "Epoch 23/50\n",
      "7500/7500 [==============================] - 0s 56us/step - loss: 1.2151 - acc: 0.6180 - val_loss: 1.2449 - val_acc: 0.5860\n",
      "Epoch 24/50\n",
      "7500/7500 [==============================] - 0s 58us/step - loss: 1.1751 - acc: 0.6320 - val_loss: 1.2093 - val_acc: 0.5840\n",
      "Epoch 25/50\n",
      "7500/7500 [==============================] - 0s 56us/step - loss: 1.1373 - acc: 0.6465 - val_loss: 1.1722 - val_acc: 0.6100\n",
      "Epoch 26/50\n",
      "7500/7500 [==============================] - 0s 52us/step - loss: 1.1012 - acc: 0.6627 - val_loss: 1.1411 - val_acc: 0.6060\n",
      "Epoch 27/50\n",
      "7500/7500 [==============================] - 0s 55us/step - loss: 1.0671 - acc: 0.6733 - val_loss: 1.1073 - val_acc: 0.6350\n",
      "Epoch 28/50\n",
      "7500/7500 [==============================] - 0s 50us/step - loss: 1.0347 - acc: 0.6815 - val_loss: 1.0778 - val_acc: 0.6430\n",
      "Epoch 29/50\n",
      "7500/7500 [==============================] - 0s 52us/step - loss: 1.0046 - acc: 0.6879 - val_loss: 1.0497 - val_acc: 0.6410\n",
      "Epoch 30/50\n",
      "7500/7500 [==============================] - 0s 57us/step - loss: 0.9759 - acc: 0.6965 - val_loss: 1.0235 - val_acc: 0.6610\n",
      "Epoch 31/50\n",
      "7500/7500 [==============================] - 0s 50us/step - loss: 0.9493 - acc: 0.7059 - val_loss: 1.0000 - val_acc: 0.6580\n",
      "Epoch 32/50\n",
      "7500/7500 [==============================] - 0s 50us/step - loss: 0.9239 - acc: 0.7104 - val_loss: 0.9791 - val_acc: 0.6610\n",
      "Epoch 33/50\n",
      "7500/7500 [==============================] - 0s 51us/step - loss: 0.9009 - acc: 0.7169 - val_loss: 0.9581 - val_acc: 0.6620\n",
      "Epoch 34/50\n",
      "7500/7500 [==============================] - 0s 56us/step - loss: 0.8781 - acc: 0.7215 - val_loss: 0.9367 - val_acc: 0.6700\n",
      "Epoch 35/50\n",
      "7500/7500 [==============================] - 0s 56us/step - loss: 0.8573 - acc: 0.7271 - val_loss: 0.9168 - val_acc: 0.6790\n",
      "Epoch 36/50\n",
      "7500/7500 [==============================] - ETA: 0s - loss: 0.8388 - acc: 0.733 - 0s 58us/step - loss: 0.8378 - acc: 0.7328 - val_loss: 0.9012 - val_acc: 0.6820\n",
      "Epoch 37/50\n",
      "7500/7500 [==============================] - 0s 54us/step - loss: 0.8192 - acc: 0.7371 - val_loss: 0.8860 - val_acc: 0.6770\n",
      "Epoch 38/50\n",
      "7500/7500 [==============================] - 0s 55us/step - loss: 0.8022 - acc: 0.7396 - val_loss: 0.8702 - val_acc: 0.6970\n",
      "Epoch 39/50\n",
      "7500/7500 [==============================] - 0s 51us/step - loss: 0.7859 - acc: 0.7457 - val_loss: 0.8568 - val_acc: 0.6960\n",
      "Epoch 40/50\n",
      "7500/7500 [==============================] - 0s 51us/step - loss: 0.7706 - acc: 0.7503 - val_loss: 0.8439 - val_acc: 0.6990\n",
      "Epoch 41/50\n",
      "7500/7500 [==============================] - 0s 52us/step - loss: 0.7562 - acc: 0.7519 - val_loss: 0.8328 - val_acc: 0.7020\n",
      "Epoch 42/50\n",
      "7500/7500 [==============================] - 0s 57us/step - loss: 0.7424 - acc: 0.7552 - val_loss: 0.8197 - val_acc: 0.7080\n",
      "Epoch 43/50\n",
      "7500/7500 [==============================] - 0s 55us/step - loss: 0.7299 - acc: 0.7596 - val_loss: 0.8130 - val_acc: 0.7030\n",
      "Epoch 44/50\n",
      "7500/7500 [==============================] - 0s 52us/step - loss: 0.7172 - acc: 0.7628 - val_loss: 0.8066 - val_acc: 0.7040\n",
      "Epoch 45/50\n",
      "7500/7500 [==============================] - 0s 50us/step - loss: 0.7062 - acc: 0.7635 - val_loss: 0.7919 - val_acc: 0.7130\n",
      "Epoch 46/50\n",
      "7500/7500 [==============================] - 0s 50us/step - loss: 0.6947 - acc: 0.7687 - val_loss: 0.7835 - val_acc: 0.7140\n",
      "Epoch 47/50\n",
      "7500/7500 [==============================] - 0s 52us/step - loss: 0.6842 - acc: 0.7697 - val_loss: 0.7757 - val_acc: 0.7150\n",
      "Epoch 48/50\n",
      "7500/7500 [==============================] - 0s 51us/step - loss: 0.6750 - acc: 0.7735 - val_loss: 0.7695 - val_acc: 0.7190\n",
      "Epoch 49/50\n",
      "7500/7500 [==============================] - 0s 52us/step - loss: 0.6650 - acc: 0.7771 - val_loss: 0.7604 - val_acc: 0.7300\n",
      "Epoch 50/50\n",
      "7500/7500 [==============================] - 0s 46us/step - loss: 0.6562 - acc: 0.7777 - val_loss: 0.7587 - val_acc: 0.7230\n",
      "1500/1500 [==============================] - 0s 91us/step\n"
     ]
    }
   ],
   "source": [
    "model = models.Sequential()\n",
    "model.add(layers.Dense(50, activation='relu', input_shape=(2000,))) #2 hidden layers\n",
    "model.add(layers.Dense(25, activation='relu'))\n",
    "model.add(layers.Dense(7, activation='softmax'))\n",
    "\n",
    "model.compile(optimizer='SGD',\n",
    "              loss='categorical_crossentropy',\n",
    "              metrics=['accuracy'])\n",
    "\n",
    "final_model = model.fit(train_final,\n",
    "                    label_train_final,\n",
    "                    epochs=50,\n",
    "                    batch_size=256,\n",
    "                    validation_data=(val, label_val))"
   ]
  },
  {
   "cell_type": "markdown",
   "metadata": {},
   "source": [
    "Now, you can use the test set to make label predictions"
   ]
  },
  {
   "cell_type": "code",
   "execution_count": 120,
   "metadata": {},
   "outputs": [
    {
     "name": "stdout",
     "output_type": "stream",
     "text": [
      "7500/7500 [==============================] - 0s 61us/step\n"
     ]
    }
   ],
   "source": [
    "results_train = model.evaluate(train_final, label_train_final)"
   ]
  },
  {
   "cell_type": "code",
   "execution_count": 121,
   "metadata": {},
   "outputs": [
    {
     "name": "stdout",
     "output_type": "stream",
     "text": [
      "1500/1500 [==============================] - 0s 78us/step\n"
     ]
    }
   ],
   "source": [
    "results_test = model.evaluate(test, label_test)"
   ]
  },
  {
   "cell_type": "code",
   "execution_count": 122,
   "metadata": {},
   "outputs": [
    {
     "data": {
      "text/plain": [
       "[0.6503562787055969, 0.7776000000317892]"
      ]
     },
     "execution_count": 122,
     "metadata": {},
     "output_type": "execute_result"
    }
   ],
   "source": [
    "results_train"
   ]
  },
  {
   "cell_type": "code",
   "execution_count": 123,
   "metadata": {},
   "outputs": [
    {
     "data": {
      "text/plain": [
       "[0.7675205413500468, 0.7166666661898295]"
      ]
     },
     "execution_count": 123,
     "metadata": {},
     "output_type": "execute_result"
    }
   ],
   "source": [
    "results_test"
   ]
  },
  {
   "cell_type": "markdown",
   "metadata": {},
   "source": [
    "We've significantly reduced the variance, but now our test results are actually also worse comparing with the results we obtained before. Let's see what else we can do!"
   ]
  },
  {
   "cell_type": "markdown",
   "metadata": {},
   "source": [
    "## 4. L2 regularization"
   ]
  },
  {
   "cell_type": "code",
   "execution_count": 127,
   "metadata": {},
   "outputs": [
    {
     "name": "stdout",
     "output_type": "stream",
     "text": [
      "Train on 7500 samples, validate on 1000 samples\n",
      "Epoch 1/120\n",
      "7500/7500 [==============================] - 2s 203us/step - loss: 4.5245 - acc: 0.1604 - val_loss: 4.4713 - val_acc: 0.1880\n",
      "Epoch 2/120\n",
      "7500/7500 [==============================] - 0s 49us/step - loss: 4.4357 - acc: 0.2099 - val_loss: 4.3908 - val_acc: 0.2220\n",
      "Epoch 3/120\n",
      "7500/7500 [==============================] - 0s 51us/step - loss: 4.3557 - acc: 0.2492 - val_loss: 4.3140 - val_acc: 0.2420\n",
      "Epoch 4/120\n",
      "7500/7500 [==============================] - 0s 53us/step - loss: 4.2773 - acc: 0.2712 - val_loss: 4.2373 - val_acc: 0.2620\n",
      "Epoch 5/120\n",
      "7500/7500 [==============================] - 0s 52us/step - loss: 4.1986 - acc: 0.2853 - val_loss: 4.1594 - val_acc: 0.2750\n",
      "Epoch 6/120\n",
      "7500/7500 [==============================] - 0s 48us/step - loss: 4.1191 - acc: 0.2976 - val_loss: 4.0805 - val_acc: 0.2980\n",
      "Epoch 7/120\n",
      "7500/7500 [==============================] - 0s 46us/step - loss: 4.0389 - acc: 0.3135 - val_loss: 3.9995 - val_acc: 0.3120\n",
      "Epoch 8/120\n",
      "7500/7500 [==============================] - 0s 49us/step - loss: 3.9578 - acc: 0.3284 - val_loss: 3.9185 - val_acc: 0.3380\n",
      "Epoch 9/120\n",
      "7500/7500 [==============================] - 0s 49us/step - loss: 3.8760 - acc: 0.3412 - val_loss: 3.8369 - val_acc: 0.3630\n",
      "Epoch 10/120\n",
      "7500/7500 [==============================] - 0s 58us/step - loss: 3.7941 - acc: 0.3625 - val_loss: 3.7560 - val_acc: 0.3620\n",
      "Epoch 11/120\n",
      "7500/7500 [==============================] - 1s 73us/step - loss: 3.7129 - acc: 0.3717 - val_loss: 3.6747 - val_acc: 0.3970\n",
      "Epoch 12/120\n",
      "7500/7500 [==============================] - 0s 57us/step - loss: 3.6322 - acc: 0.3959 - val_loss: 3.5950 - val_acc: 0.4170\n",
      "Epoch 13/120\n",
      "7500/7500 [==============================] - 0s 52us/step - loss: 3.5528 - acc: 0.4121 - val_loss: 3.5166 - val_acc: 0.4530\n",
      "Epoch 14/120\n",
      "7500/7500 [==============================] - 0s 62us/step - loss: 3.4749 - acc: 0.4429 - val_loss: 3.4395 - val_acc: 0.4680\n",
      "Epoch 15/120\n",
      "7500/7500 [==============================] - 0s 54us/step - loss: 3.3981 - acc: 0.4653 - val_loss: 3.3644 - val_acc: 0.4770\n",
      "Epoch 16/120\n",
      "7500/7500 [==============================] - 0s 54us/step - loss: 3.3228 - acc: 0.4823 - val_loss: 3.2909 - val_acc: 0.4940\n",
      "Epoch 17/120\n",
      "7500/7500 [==============================] - 0s 54us/step - loss: 3.2492 - acc: 0.5039 - val_loss: 3.2186 - val_acc: 0.5220\n",
      "Epoch 18/120\n",
      "7500/7500 [==============================] - 0s 61us/step - loss: 3.1777 - acc: 0.5299 - val_loss: 3.1482 - val_acc: 0.5300\n",
      "Epoch 19/120\n",
      "7500/7500 [==============================] - 0s 55us/step - loss: 3.1075 - acc: 0.5451 - val_loss: 3.0813 - val_acc: 0.5390\n",
      "Epoch 20/120\n",
      "7500/7500 [==============================] - 0s 52us/step - loss: 3.0402 - acc: 0.5652 - val_loss: 3.0145 - val_acc: 0.5530\n",
      "Epoch 21/120\n",
      "7500/7500 [==============================] - ETA: 0s - loss: 2.9741 - acc: 0.579 - 0s 51us/step - loss: 2.9745 - acc: 0.5781 - val_loss: 2.9514 - val_acc: 0.5710\n",
      "Epoch 22/120\n",
      "7500/7500 [==============================] - 0s 49us/step - loss: 2.9111 - acc: 0.5980 - val_loss: 2.8901 - val_acc: 0.5780\n",
      "Epoch 23/120\n",
      "7500/7500 [==============================] - 0s 49us/step - loss: 2.8501 - acc: 0.6143 - val_loss: 2.8319 - val_acc: 0.5920\n",
      "Epoch 24/120\n",
      "7500/7500 [==============================] - 0s 52us/step - loss: 2.7913 - acc: 0.6255 - val_loss: 2.7739 - val_acc: 0.6060\n",
      "Epoch 25/120\n",
      "7500/7500 [==============================] - 0s 50us/step - loss: 2.7344 - acc: 0.6365 - val_loss: 2.7203 - val_acc: 0.6280\n",
      "Epoch 26/120\n",
      "7500/7500 [==============================] - 0s 52us/step - loss: 2.6800 - acc: 0.6544 - val_loss: 2.6684 - val_acc: 0.6390\n",
      "Epoch 27/120\n",
      "7500/7500 [==============================] - 0s 49us/step - loss: 2.6273 - acc: 0.6619 - val_loss: 2.6190 - val_acc: 0.6580\n",
      "Epoch 28/120\n",
      "7500/7500 [==============================] - 0s 49us/step - loss: 2.5765 - acc: 0.6739 - val_loss: 2.5708 - val_acc: 0.6660\n",
      "Epoch 29/120\n",
      "7500/7500 [==============================] - 0s 54us/step - loss: 2.5276 - acc: 0.6853 - val_loss: 2.5232 - val_acc: 0.6670\n",
      "Epoch 30/120\n",
      "7500/7500 [==============================] - 0s 49us/step - loss: 2.4802 - acc: 0.6915 - val_loss: 2.4790 - val_acc: 0.6810\n",
      "Epoch 31/120\n",
      "7500/7500 [==============================] - 0s 52us/step - loss: 2.4344 - acc: 0.6977 - val_loss: 2.4350 - val_acc: 0.6810\n",
      "Epoch 32/120\n",
      "7500/7500 [==============================] - 0s 50us/step - loss: 2.3904 - acc: 0.7049 - val_loss: 2.3942 - val_acc: 0.6850\n",
      "Epoch 33/120\n",
      "7500/7500 [==============================] - 0s 48us/step - loss: 2.3478 - acc: 0.7124 - val_loss: 2.3540 - val_acc: 0.6920\n",
      "Epoch 34/120\n",
      "7500/7500 [==============================] - 0s 50us/step - loss: 2.3063 - acc: 0.7180 - val_loss: 2.3157 - val_acc: 0.6950\n",
      "Epoch 35/120\n",
      "7500/7500 [==============================] - 0s 50us/step - loss: 2.2670 - acc: 0.7220 - val_loss: 2.2787 - val_acc: 0.6980\n",
      "Epoch 36/120\n",
      "7500/7500 [==============================] - 0s 50us/step - loss: 2.2282 - acc: 0.7283 - val_loss: 2.2424 - val_acc: 0.6960\n",
      "Epoch 37/120\n",
      "7500/7500 [==============================] - 0s 47us/step - loss: 2.1912 - acc: 0.7311 - val_loss: 2.2074 - val_acc: 0.7010\n",
      "Epoch 38/120\n",
      "7500/7500 [==============================] - 0s 48us/step - loss: 2.1550 - acc: 0.7380 - val_loss: 2.1743 - val_acc: 0.7070\n",
      "Epoch 39/120\n",
      "7500/7500 [==============================] - 0s 46us/step - loss: 2.1204 - acc: 0.7425 - val_loss: 2.1411 - val_acc: 0.7050\n",
      "Epoch 40/120\n",
      "7500/7500 [==============================] - 0s 47us/step - loss: 2.0861 - acc: 0.7475 - val_loss: 2.1090 - val_acc: 0.7090\n",
      "Epoch 41/120\n",
      "7500/7500 [==============================] - 0s 47us/step - loss: 2.0533 - acc: 0.7488 - val_loss: 2.0780 - val_acc: 0.7120\n",
      "Epoch 42/120\n",
      "7500/7500 [==============================] - 0s 48us/step - loss: 2.0214 - acc: 0.7541 - val_loss: 2.0482 - val_acc: 0.7150\n",
      "Epoch 43/120\n",
      "7500/7500 [==============================] - 0s 45us/step - loss: 1.9908 - acc: 0.7544 - val_loss: 2.0192 - val_acc: 0.7230\n",
      "Epoch 44/120\n",
      "7500/7500 [==============================] - 0s 46us/step - loss: 1.9608 - acc: 0.7572 - val_loss: 1.9921 - val_acc: 0.7230\n",
      "Epoch 45/120\n",
      "7500/7500 [==============================] - 0s 47us/step - loss: 1.9322 - acc: 0.7613 - val_loss: 1.9664 - val_acc: 0.7190\n",
      "Epoch 46/120\n",
      "7500/7500 [==============================] - 0s 46us/step - loss: 1.9044 - acc: 0.7617 - val_loss: 1.9397 - val_acc: 0.7260\n",
      "Epoch 47/120\n",
      "7500/7500 [==============================] - 0s 47us/step - loss: 1.8774 - acc: 0.7663 - val_loss: 1.9160 - val_acc: 0.7260\n",
      "Epoch 48/120\n",
      "7500/7500 [==============================] - 0s 48us/step - loss: 1.8515 - acc: 0.7660 - val_loss: 1.8916 - val_acc: 0.7310\n",
      "Epoch 49/120\n",
      "7500/7500 [==============================] - 0s 46us/step - loss: 1.8260 - acc: 0.7665 - val_loss: 1.8721 - val_acc: 0.7220\n",
      "Epoch 50/120\n",
      "7500/7500 [==============================] - 0s 45us/step - loss: 1.8018 - acc: 0.7731 - val_loss: 1.8457 - val_acc: 0.7310\n",
      "Epoch 51/120\n",
      "7500/7500 [==============================] - 0s 45us/step - loss: 1.7780 - acc: 0.7735 - val_loss: 1.8243 - val_acc: 0.7350\n",
      "Epoch 52/120\n",
      "7500/7500 [==============================] - 0s 46us/step - loss: 1.7551 - acc: 0.7735 - val_loss: 1.8032 - val_acc: 0.7290\n",
      "Epoch 53/120\n",
      "7500/7500 [==============================] - 0s 46us/step - loss: 1.7326 - acc: 0.7751 - val_loss: 1.7820 - val_acc: 0.7310\n",
      "Epoch 54/120\n",
      "7500/7500 [==============================] - 0s 44us/step - loss: 1.7108 - acc: 0.7763 - val_loss: 1.7612 - val_acc: 0.7370\n",
      "Epoch 55/120\n",
      "7500/7500 [==============================] - 0s 45us/step - loss: 1.6900 - acc: 0.7820 - val_loss: 1.7431 - val_acc: 0.7320\n",
      "Epoch 56/120\n",
      "7500/7500 [==============================] - 0s 45us/step - loss: 1.6694 - acc: 0.7800 - val_loss: 1.7244 - val_acc: 0.7320\n",
      "Epoch 57/120\n",
      "7500/7500 [==============================] - 0s 49us/step - loss: 1.6495 - acc: 0.7804 - val_loss: 1.7071 - val_acc: 0.7330\n",
      "Epoch 58/120\n",
      "7500/7500 [==============================] - 0s 53us/step - loss: 1.6303 - acc: 0.7863 - val_loss: 1.6874 - val_acc: 0.7310\n",
      "Epoch 59/120\n",
      "7500/7500 [==============================] - 0s 50us/step - loss: 1.6116 - acc: 0.7861 - val_loss: 1.6700 - val_acc: 0.7320\n",
      "Epoch 60/120\n"
     ]
    },
    {
     "name": "stdout",
     "output_type": "stream",
     "text": [
      "7500/7500 [==============================] - 0s 51us/step - loss: 1.5936 - acc: 0.7828 - val_loss: 1.6536 - val_acc: 0.7370\n",
      "Epoch 61/120\n",
      "7500/7500 [==============================] - 0s 47us/step - loss: 1.5754 - acc: 0.7873 - val_loss: 1.6361 - val_acc: 0.7380\n",
      "Epoch 62/120\n",
      "7500/7500 [==============================] - 0s 47us/step - loss: 1.5584 - acc: 0.7876 - val_loss: 1.6211 - val_acc: 0.7390\n",
      "Epoch 63/120\n",
      "7500/7500 [==============================] - 0s 44us/step - loss: 1.5415 - acc: 0.7899 - val_loss: 1.6064 - val_acc: 0.7380\n",
      "Epoch 64/120\n",
      "7500/7500 [==============================] - 0s 47us/step - loss: 1.5247 - acc: 0.7899 - val_loss: 1.5900 - val_acc: 0.7330\n",
      "Epoch 65/120\n",
      "7500/7500 [==============================] - 0s 47us/step - loss: 1.5093 - acc: 0.7928 - val_loss: 1.5761 - val_acc: 0.7340\n",
      "Epoch 66/120\n",
      "7500/7500 [==============================] - 0s 49us/step - loss: 1.4934 - acc: 0.7920 - val_loss: 1.5620 - val_acc: 0.7350\n",
      "Epoch 67/120\n",
      "7500/7500 [==============================] - 0s 46us/step - loss: 1.4780 - acc: 0.7951 - val_loss: 1.5488 - val_acc: 0.7400\n",
      "Epoch 68/120\n",
      "7500/7500 [==============================] - 0s 46us/step - loss: 1.4635 - acc: 0.7945 - val_loss: 1.5343 - val_acc: 0.7410\n",
      "Epoch 69/120\n",
      "7500/7500 [==============================] - 0s 48us/step - loss: 1.4489 - acc: 0.7973 - val_loss: 1.5234 - val_acc: 0.7410\n",
      "Epoch 70/120\n",
      "7500/7500 [==============================] - 0s 45us/step - loss: 1.4348 - acc: 0.7939 - val_loss: 1.5081 - val_acc: 0.7360\n",
      "Epoch 71/120\n",
      "7500/7500 [==============================] - 0s 46us/step - loss: 1.4211 - acc: 0.8035 - val_loss: 1.4958 - val_acc: 0.7390\n",
      "Epoch 72/120\n",
      "7500/7500 [==============================] - 0s 49us/step - loss: 1.4077 - acc: 0.8007 - val_loss: 1.4837 - val_acc: 0.7410\n",
      "Epoch 73/120\n",
      "7500/7500 [==============================] - 0s 49us/step - loss: 1.3945 - acc: 0.8011 - val_loss: 1.4710 - val_acc: 0.7440\n",
      "Epoch 74/120\n",
      "7500/7500 [==============================] - 0s 46us/step - loss: 1.3819 - acc: 0.8023 - val_loss: 1.4605 - val_acc: 0.7410\n",
      "Epoch 75/120\n",
      "7500/7500 [==============================] - 0s 45us/step - loss: 1.3696 - acc: 0.8021 - val_loss: 1.4497 - val_acc: 0.7400\n",
      "Epoch 76/120\n",
      "7500/7500 [==============================] - 0s 46us/step - loss: 1.3574 - acc: 0.8065 - val_loss: 1.4408 - val_acc: 0.7380\n",
      "Epoch 77/120\n",
      "7500/7500 [==============================] - 0s 47us/step - loss: 1.3455 - acc: 0.8045 - val_loss: 1.4273 - val_acc: 0.7430\n",
      "Epoch 78/120\n",
      "7500/7500 [==============================] - 0s 47us/step - loss: 1.3337 - acc: 0.8071 - val_loss: 1.4178 - val_acc: 0.7400\n",
      "Epoch 79/120\n",
      "7500/7500 [==============================] - 0s 45us/step - loss: 1.3225 - acc: 0.8017 - val_loss: 1.4058 - val_acc: 0.7400\n",
      "Epoch 80/120\n",
      "7500/7500 [==============================] - 0s 46us/step - loss: 1.3116 - acc: 0.8085 - val_loss: 1.3973 - val_acc: 0.7400\n",
      "Epoch 81/120\n",
      "7500/7500 [==============================] - 0s 46us/step - loss: 1.3009 - acc: 0.8063 - val_loss: 1.3862 - val_acc: 0.7390\n",
      "Epoch 82/120\n",
      "7500/7500 [==============================] - 0s 47us/step - loss: 1.2901 - acc: 0.8081 - val_loss: 1.3772 - val_acc: 0.7400\n",
      "Epoch 83/120\n",
      "7500/7500 [==============================] - 0s 46us/step - loss: 1.2797 - acc: 0.8096 - val_loss: 1.3676 - val_acc: 0.7390\n",
      "Epoch 84/120\n",
      "7500/7500 [==============================] - 0s 46us/step - loss: 1.2697 - acc: 0.8084 - val_loss: 1.3583 - val_acc: 0.7420\n",
      "Epoch 85/120\n",
      "7500/7500 [==============================] - 0s 46us/step - loss: 1.2599 - acc: 0.8147 - val_loss: 1.3506 - val_acc: 0.7430\n",
      "Epoch 86/120\n",
      "7500/7500 [==============================] - 0s 45us/step - loss: 1.2503 - acc: 0.8091 - val_loss: 1.3410 - val_acc: 0.7430\n",
      "Epoch 87/120\n",
      "7500/7500 [==============================] - 0s 47us/step - loss: 1.2408 - acc: 0.8136 - val_loss: 1.3334 - val_acc: 0.7410\n",
      "Epoch 88/120\n",
      "7500/7500 [==============================] - 0s 47us/step - loss: 1.2314 - acc: 0.8107 - val_loss: 1.3270 - val_acc: 0.7430\n",
      "Epoch 89/120\n",
      "7500/7500 [==============================] - 0s 44us/step - loss: 1.2225 - acc: 0.8123 - val_loss: 1.3167 - val_acc: 0.7420\n",
      "Epoch 90/120\n",
      "7500/7500 [==============================] - 0s 46us/step - loss: 1.2137 - acc: 0.8140 - val_loss: 1.3091 - val_acc: 0.7380\n",
      "Epoch 91/120\n",
      "7500/7500 [==============================] - 0s 45us/step - loss: 1.2052 - acc: 0.8148 - val_loss: 1.3015 - val_acc: 0.7430\n",
      "Epoch 92/120\n",
      "7500/7500 [==============================] - 0s 46us/step - loss: 1.1969 - acc: 0.8173 - val_loss: 1.2935 - val_acc: 0.7400\n",
      "Epoch 93/120\n",
      "7500/7500 [==============================] - 0s 47us/step - loss: 1.1886 - acc: 0.8156 - val_loss: 1.2887 - val_acc: 0.7340\n",
      "Epoch 94/120\n",
      "7500/7500 [==============================] - 0s 50us/step - loss: 1.1804 - acc: 0.8161 - val_loss: 1.2811 - val_acc: 0.7390\n",
      "Epoch 95/120\n",
      "7500/7500 [==============================] - 0s 49us/step - loss: 1.1730 - acc: 0.8217 - val_loss: 1.2710 - val_acc: 0.7430\n",
      "Epoch 96/120\n",
      "7500/7500 [==============================] - 0s 55us/step - loss: 1.1649 - acc: 0.8176 - val_loss: 1.2642 - val_acc: 0.7450\n",
      "Epoch 97/120\n",
      "7500/7500 [==============================] - 0s 47us/step - loss: 1.1573 - acc: 0.8211 - val_loss: 1.2580 - val_acc: 0.7380\n",
      "Epoch 98/120\n",
      "7500/7500 [==============================] - 0s 45us/step - loss: 1.1502 - acc: 0.8203 - val_loss: 1.2550 - val_acc: 0.7400\n",
      "Epoch 99/120\n",
      "7500/7500 [==============================] - 0s 47us/step - loss: 1.1430 - acc: 0.8179 - val_loss: 1.2452 - val_acc: 0.7430\n",
      "Epoch 100/120\n",
      "7500/7500 [==============================] - 0s 45us/step - loss: 1.1357 - acc: 0.8240 - val_loss: 1.2398 - val_acc: 0.7410\n",
      "Epoch 101/120\n",
      "7500/7500 [==============================] - 0s 48us/step - loss: 1.1289 - acc: 0.8228 - val_loss: 1.2331 - val_acc: 0.7430\n",
      "Epoch 102/120\n",
      "7500/7500 [==============================] - 0s 46us/step - loss: 1.1224 - acc: 0.8229 - val_loss: 1.2259 - val_acc: 0.7420\n",
      "Epoch 103/120\n",
      "7500/7500 [==============================] - 0s 45us/step - loss: 1.1153 - acc: 0.8237 - val_loss: 1.2212 - val_acc: 0.7380\n",
      "Epoch 104/120\n",
      "7500/7500 [==============================] - 0s 45us/step - loss: 1.1089 - acc: 0.8269 - val_loss: 1.2181 - val_acc: 0.7390\n",
      "Epoch 105/120\n",
      "7500/7500 [==============================] - 0s 47us/step - loss: 1.1029 - acc: 0.8261 - val_loss: 1.2108 - val_acc: 0.7380\n",
      "Epoch 106/120\n",
      "7500/7500 [==============================] - 0s 46us/step - loss: 1.0967 - acc: 0.8247 - val_loss: 1.2042 - val_acc: 0.7410\n",
      "Epoch 107/120\n",
      "7500/7500 [==============================] - 0s 45us/step - loss: 1.0904 - acc: 0.8283 - val_loss: 1.2000 - val_acc: 0.7430\n",
      "Epoch 108/120\n",
      "7500/7500 [==============================] - 0s 47us/step - loss: 1.0843 - acc: 0.8265 - val_loss: 1.1954 - val_acc: 0.7370\n",
      "Epoch 109/120\n",
      "7500/7500 [==============================] - 0s 47us/step - loss: 1.0789 - acc: 0.8293 - val_loss: 1.1903 - val_acc: 0.7340\n",
      "Epoch 110/120\n",
      "7500/7500 [==============================] - 0s 49us/step - loss: 1.0731 - acc: 0.8300 - val_loss: 1.1844 - val_acc: 0.7430\n",
      "Epoch 111/120\n",
      "7500/7500 [==============================] - 0s 46us/step - loss: 1.0676 - acc: 0.8256 - val_loss: 1.1799 - val_acc: 0.7400\n",
      "Epoch 112/120\n",
      "7500/7500 [==============================] - 0s 47us/step - loss: 1.0619 - acc: 0.8300 - val_loss: 1.1753 - val_acc: 0.7400\n",
      "Epoch 113/120\n",
      "7500/7500 [==============================] - 0s 50us/step - loss: 1.0566 - acc: 0.8285 - val_loss: 1.1706 - val_acc: 0.7380\n",
      "Epoch 114/120\n",
      "7500/7500 [==============================] - 0s 47us/step - loss: 1.0512 - acc: 0.8295 - val_loss: 1.1661 - val_acc: 0.7360\n",
      "Epoch 115/120\n",
      "7500/7500 [==============================] - 0s 48us/step - loss: 1.0461 - acc: 0.8329 - val_loss: 1.1616 - val_acc: 0.7420\n",
      "Epoch 116/120\n",
      "7500/7500 [==============================] - 0s 47us/step - loss: 1.0412 - acc: 0.8320 - val_loss: 1.1580 - val_acc: 0.7380\n",
      "Epoch 117/120\n",
      "7500/7500 [==============================] - 0s 46us/step - loss: 1.0365 - acc: 0.8331 - val_loss: 1.1531 - val_acc: 0.7370\n",
      "Epoch 118/120\n",
      "7500/7500 [==============================] - 0s 47us/step - loss: 1.0316 - acc: 0.8312 - val_loss: 1.1489 - val_acc: 0.7420\n",
      "Epoch 119/120\n",
      "7500/7500 [==============================] - 0s 45us/step - loss: 1.0267 - acc: 0.8315 - val_loss: 1.1467 - val_acc: 0.7380\n"
     ]
    },
    {
     "name": "stdout",
     "output_type": "stream",
     "text": [
      "Epoch 120/120\n",
      "7500/7500 [==============================] - 0s 45us/step - loss: 1.0219 - acc: 0.8356 - val_loss: 1.1398 - val_acc: 0.7390\n"
     ]
    }
   ],
   "source": [
    "from keras import regularizers\n",
    "model = models.Sequential()\n",
    "model.add(layers.Dense(50, activation='relu',kernel_regularizer=regularizers.l2(0.02), input_shape=(2000,))) #2 hidden layers\n",
    "model.add(layers.Dense(25, kernel_regularizer=regularizers.l2(0.02), activation='relu'))\n",
    "model.add(layers.Dense(7, activation='softmax'))\n",
    "\n",
    "model.compile(optimizer='SGD',\n",
    "              loss='categorical_crossentropy',\n",
    "              metrics=['accuracy'])\n",
    "\n",
    "final_model = model.fit(train_final,\n",
    "                    label_train_final,\n",
    "                    epochs=120,\n",
    "                    batch_size=256,\n",
    "                    validation_data=(val, label_val))"
   ]
  },
  {
   "cell_type": "markdown",
   "metadata": {},
   "source": [
    "# SOURCES"
   ]
  },
  {
   "cell_type": "markdown",
   "metadata": {},
   "source": [
    "https://github.com/susanli2016/Machine-Learning-with-Python/blob/master/Consumer_complaints.ipynb"
   ]
  },
  {
   "cell_type": "markdown",
   "metadata": {},
   "source": [
    "https://catalog.data.gov/dataset/consumer-complaint-database"
   ]
  },
  {
   "cell_type": "code",
   "execution_count": null,
   "metadata": {},
   "outputs": [],
   "source": []
  }
 ],
 "metadata": {
  "kernelspec": {
   "display_name": "Python 3",
   "language": "python",
   "name": "python3"
  },
  "language_info": {
   "codemirror_mode": {
    "name": "ipython",
    "version": 3
   },
   "file_extension": ".py",
   "mimetype": "text/x-python",
   "name": "python",
   "nbconvert_exporter": "python",
   "pygments_lexer": "ipython3",
   "version": "3.6.4"
  }
 },
 "nbformat": 4,
 "nbformat_minor": 2
}
